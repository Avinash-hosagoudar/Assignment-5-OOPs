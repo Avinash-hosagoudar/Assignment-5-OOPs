{
 "cells": [
  {
   "cell_type": "markdown",
   "id": "e7e1c081-3ca8-4bc6-a42c-bb6ed4fd7dc5",
   "metadata": {},
   "source": [
    "🔴 In this challenge, you need to implement a method that squares passing variables and returns their sum.\n",
    "\n",
    "Problem statement: Implement a class Point that has three properties and a method. All these attributes (properties and methods) should be public. This problem can be broken down into two tasks:\n",
    "\n",
    "Task 1: 👉 Implement a constructor to initialize the values of three properties: x, y, and z.\n",
    "\n",
    "Task 2: 👉 Implement a method, sqSum(), in the Point class which squares x, y, and z and returns their sum.\n",
    "\n",
    "Sample properties 1, 3, 5\n",
    "\n",
    "Sample method output 35"
   ]
  },
  {
   "cell_type": "markdown",
   "id": "208a5bb8-3022-42e6-b85d-62e3f2e18576",
   "metadata": {},
   "source": [
    "Coding exercise Create a class Point with three properties: x, y, and z."
   ]
  },
  {
   "cell_type": "code",
   "execution_count": 1,
   "id": "1bacb3de-a4ff-4cae-be8c-a6ac92b3b27d",
   "metadata": {},
   "outputs": [
    {
     "name": "stdout",
     "output_type": "stream",
     "text": [
      "35\n"
     ]
    }
   ],
   "source": [
    "class Point:\n",
    "    def __init__(self, x, y, z):\n",
    "        self.x = x\n",
    "        self.y = y\n",
    "        self.z = z\n",
    "\n",
    "    def sqSum(self):\n",
    "        return self.x**2 + self.y**2 + self.z**2\n",
    "#You can then create an instance of the Point class and call the sqSum() method on it to get the sum of the squares of its x, y, and z properties\n",
    "p = Point(1, 3, 5)\n",
    "print(p.sqSum())"
   ]
  }
 ],
 "metadata": {
  "kernelspec": {
   "display_name": "Python 3 (ipykernel)",
   "language": "python",
   "name": "python3"
  },
  "language_info": {
   "codemirror_mode": {
    "name": "ipython",
    "version": 3
   },
   "file_extension": ".py",
   "mimetype": "text/x-python",
   "name": "python",
   "nbconvert_exporter": "python",
   "pygments_lexer": "ipython3",
   "version": "3.11.1"
  }
 },
 "nbformat": 4,
 "nbformat_minor": 5
}
