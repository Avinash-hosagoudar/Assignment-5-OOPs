{
 "cells": [
  {
   "cell_type": "markdown",
   "id": "1382a36f-dcba-413d-9c96-0aeaeaaf2f53",
   "metadata": {},
   "source": [
    "🔴In this challenge, you will implement a student class\n",
    "Problem statement\n",
    "\n",
    "Implement the complete Student class by completing the tasks below\n",
    "\n",
    "Task\n",
    "\n",
    "👉 Implement the following properties as private:\n",
    "\n",
    "• name\n",
    "• rollNumber\n",
    "👉 Include the following methods to get and set the private properties above:\n",
    "\n",
    "• getName()\n",
    "• setName()\n",
    "• getRollNumber()\n",
    "• setRollNumber()\n",
    "👉 Implement this class according to the rules of encapsulation.\n",
    "\n",
    "Input - Checking all the properties and methods\n",
    "\n",
    "Output - Expecting perfectly defined fields and getter/setters"
   ]
  },
  {
   "cell_type": "code",
   "execution_count": 1,
   "id": "0fbb8200-52af-439d-bc3d-204d052323c1",
   "metadata": {},
   "outputs": [
    {
     "name": "stdout",
     "output_type": "stream",
     "text": [
      "ABC\n",
      "A11011\n"
     ]
    }
   ],
   "source": [
    "class Student:\n",
    "    def __init__(self):\n",
    "        self.__name = \"\"\n",
    "        self.__rollNumber = \"\"\n",
    "        \n",
    "    def getName(self):\n",
    "        return self.__name\n",
    "    \n",
    "    def setName(self, name):\n",
    "        self.__name = name\n",
    "        \n",
    "    def getRollNumber(self):\n",
    "        return self.__rollNumber\n",
    "    \n",
    "    def setRollNumber(self, rollNumber):\n",
    "        self.__rollNumber = rollNumber\n",
    "\n",
    "# Example usage\n",
    "student = Student()\n",
    "student.setName(\"ABC\")\n",
    "student.setRollNumber(\"A11011\")\n",
    "print(student.getName()) \n",
    "print(student.getRollNumber()) \n"
   ]
  }
 ],
 "metadata": {
  "kernelspec": {
   "display_name": "Python 3 (ipykernel)",
   "language": "python",
   "name": "python3"
  },
  "language_info": {
   "codemirror_mode": {
    "name": "ipython",
    "version": 3
   },
   "file_extension": ".py",
   "mimetype": "text/x-python",
   "name": "python",
   "nbconvert_exporter": "python",
   "pygments_lexer": "ipython3",
   "version": "3.11.1"
  }
 },
 "nbformat": 4,
 "nbformat_minor": 5
}
