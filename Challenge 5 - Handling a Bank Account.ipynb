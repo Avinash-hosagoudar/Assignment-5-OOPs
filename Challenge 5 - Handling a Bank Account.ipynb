{
 "cells": [
  {
   "cell_type": "markdown",
   "id": "b23de653-73c4-4a44-8a20-ffbddf7133d6",
   "metadata": {},
   "source": [
    "🔴 In this challenge, you will define methods for handling a bank account using concepts of inheritance.\n",
    "\n",
    "Problem statement\n",
    "\n",
    "In this challenge, we will be extending the previous challenge and implementing methods in the parent class and its corresponding child class.\n",
    "\n",
    "The initializers for both classes have been defined for you.\n",
    "\n",
    "**Task 1**\n",
    "\n",
    "In the Account class, implement the getBalance() method that returns balance.\n",
    "\n",
    "**Task 2**\n",
    "\n",
    "In the Account class, implement the deposit(amount) method that adds amount to the balance.\n",
    "\n",
    "It does not return anything.\n",
    "\n",
    "Sample input-\n",
    "balance = 2000\n",
    "deposit(500)\n",
    "getbalance()\n",
    "\n",
    "Sample output-\n",
    "2500\n",
    "\n",
    "**Task 3**\n",
    "In the Account class, implement the withdrawal(amount) method that subtracts the amount from the balance.\n",
    "\n",
    "It does not return anything.\n",
    "\n",
    "Sample input-\n",
    "balance = 2000\n",
    "withdrawal(500)\n",
    "getbalance()\n",
    "\n",
    "Sample output-\n",
    "1500\n",
    "\n",
    "**Task 4**\n",
    "\n",
    "In the SavingsAccount class, implement an interestAmount() method that returns the interest amount of the current balance.\n",
    "\n",
    "Below is the formula for calculating the interest amount:\n",
    "\n",
    "Sample input-\n",
    "balance = 2000\n",
    "interestRate = 5\n",
    "interestAmount()\n",
    "\n",
    "Sample output-\n",
    "100"
   ]
  },
  {
   "cell_type": "code",
   "execution_count": 4,
   "id": "f82d82a7-507f-4469-82e5-e9b0f3534dc6",
   "metadata": {},
   "outputs": [
    {
     "name": "stdout",
     "output_type": "stream",
     "text": [
      "***Your Account is Created***.\n"
     ]
    },
    {
     "name": "stdin",
     "output_type": "stream",
     "text": [
      "\n",
      "\n",
      "Enter the amount to deposit: 3000\n"
     ]
    },
    {
     "name": "stdout",
     "output_type": "stream",
     "text": [
      "Your New Balance *********** = ₹3000.00\n"
     ]
    },
    {
     "name": "stdin",
     "output_type": "stream",
     "text": [
      "\n",
      "\n",
      "Do you want to withdraw? (yes/no):  yes\n",
      "Enter the amount to withdraw: 1000\n"
     ]
    },
    {
     "name": "stdout",
     "output_type": "stream",
     "text": [
      "\n",
      "\n",
      "Your Remaining Balance *********** = ₹2000.00\n",
      "\n",
      "Your Balance ***********= ₹2000.00\n",
      "\n",
      "\n",
      "Your New Balance with Interest ***********: ₹2100.00\n"
     ]
    }
   ],
   "source": [
    "class Account:\n",
    "    def __init__(self):\n",
    "        self.balance=0\n",
    "        self.interestRate = 0.05\n",
    "        print('***Your Account is Created***.')\n",
    "    def deposit(self):\n",
    "        amount=float(input('\\n\\nEnter the amount to deposit:'))\n",
    "        self.balance+=amount\n",
    "        print('Your New Balance *********** = ₹%.2f' %self.balance)\n",
    "    def withdraw(self):\n",
    "        choice = input('\\n\\nDo you want to withdraw? (yes/no): ')\n",
    "        if choice == 'yes':\n",
    "            amount=float(input('Enter the amount to withdraw:'))\n",
    "            if(amount>self.balance):\n",
    "                print('\\n\\nInsufficient Balance!')\n",
    "            else:\n",
    "                self.balance-=amount\n",
    "                print('\\n\\nYour Remaining Balance *********** = ₹%.2f' %self.balance)\n",
    "        elif choice == 'no':\n",
    "            print('\\n\\nWithdrawal cancelled.')\n",
    "        else:\n",
    "            print('Invalid input. Please enter \"yes\" or \"no\".')\n",
    "    def enquiry(self):\n",
    "        print('\\nYour Balance ***********= ₹%.2f' %self.balance)\n",
    "    def addInterest(self):\n",
    "        self.balance += self.balance * self.interestRate\n",
    "        print('\\n\\nYour New Balance with Interest ***********: ₹%.2f' % self.balance)\n",
    "\n",
    "account= Account()\n",
    "account.deposit()\n",
    "account.withdraw()\n",
    "account.enquiry()\n",
    "account.addInterest()"
   ]
  },
  {
   "cell_type": "code",
   "execution_count": null,
   "id": "d2d4e3e5-4cec-49c2-b4e2-09234cf3ef13",
   "metadata": {},
   "outputs": [],
   "source": []
  }
 ],
 "metadata": {
  "kernelspec": {
   "display_name": "Python 3 (ipykernel)",
   "language": "python",
   "name": "python3"
  },
  "language_info": {
   "codemirror_mode": {
    "name": "ipython",
    "version": 3
   },
   "file_extension": ".py",
   "mimetype": "text/x-python",
   "name": "python",
   "nbconvert_exporter": "python",
   "pygments_lexer": "ipython3",
   "version": "3.11.1"
  }
 },
 "nbformat": 4,
 "nbformat_minor": 5
}
