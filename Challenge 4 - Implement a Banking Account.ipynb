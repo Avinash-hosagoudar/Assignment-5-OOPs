{
 "cells": [
  {
   "cell_type": "markdown",
   "id": "91efe209-d0d1-46dc-a978-3d3d4beba227",
   "metadata": {},
   "source": [
    "🔴 In this challenge, you will implement a banking account using the concepts of inheritance.\n",
    "Problem statement\n",
    "\n",
    "Implement the basic structure of a parent class, Account, and a child class, SavingsAccount.\n",
    "\n",
    "**Task 1**\n",
    "\n",
    "👉 Implement properties as instance variables, and set them to None or 0.\n",
    "\n",
    "Account has the following properties:\n",
    "\n",
    "    • title\n",
    "    • Balance\n",
    "SavingsAccount has the following properties:\n",
    "\n",
    "    • interestRate\n",
    "**Task 2**\n",
    "\n",
    "Create an initializer for Account class. The order of parameters should be the following, where Ashish is the title, and 5000 is the account balance:\n",
    "\n",
    "Account(\"Ashish\", 5000)\n",
    "\n",
    "**Task 3**\n",
    "\n",
    "Implement properties as instance variables, and set them to None or 0.\n",
    "\n",
    "Create an initializer for the SavingsAccount class using the initializer of the Account class in the order below:\n",
    "\n",
    "Account(\"Ashish\", 5000, 5)\n",
    "\n",
    "Here, Ashish is the title and 5000 is the balance and 5 is the interestRate."
   ]
  },
  {
   "cell_type": "code",
   "execution_count": 1,
   "id": "401fae88-057b-464e-aca7-97d68baaf4b8",
   "metadata": {},
   "outputs": [
    {
     "name": "stdout",
     "output_type": "stream",
     "text": [
      "Ashish\n",
      "500\n",
      "5\n"
     ]
    }
   ],
   "source": [
    "class Account:\n",
    "    def __init__(self, title, balance):\n",
    "        self.title = title\n",
    "        self.balance = balance\n",
    "\n",
    "class SavingsAccount(Account):\n",
    "    def __init__(self, title, balance, interestRate):\n",
    "        super().__init__(title, balance)\n",
    "        self.interestRate = interestRate\n",
    "\n",
    "# Example usage\n",
    "account = Account(\"Ashish\", 500)\n",
    "savingsAccount = SavingsAccount(\"Ashish\", 5000, 5)\n",
    "print(account.title)\n",
    "print(account.balance) \n",
    "print(savingsAccount.interestRate)"
   ]
  }
 ],
 "metadata": {
  "kernelspec": {
   "display_name": "Python 3 (ipykernel)",
   "language": "python",
   "name": "python3"
  },
  "language_info": {
   "codemirror_mode": {
    "name": "ipython",
    "version": 3
   },
   "file_extension": ".py",
   "mimetype": "text/x-python",
   "name": "python",
   "nbconvert_exporter": "python",
   "pygments_lexer": "ipython3",
   "version": "3.11.1"
  }
 },
 "nbformat": 4,
 "nbformat_minor": 5
}
