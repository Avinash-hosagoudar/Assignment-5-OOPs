{
 "cells": [
  {
   "cell_type": "markdown",
   "id": "464269d3-2e5e-4c1d-9614-0161b73cea38",
   "metadata": {},
   "source": [
    "🔴 In this exercise, you have to implement a calculator that can perform addition, subtraction, multiplication, and division.\n",
    "\n",
    "Problem statement Write a Python class called Calculator by completing the tasks below:\n",
    "\n",
    "Task 1\n",
    "\n",
    "👉 Initializer\n",
    "\n",
    "Implement an initializer to initialize the values of num1 and num2. Properties\n",
    "\n",
    "• num1\n",
    "• num2\n",
    "\n",
    "Task 2\n",
    "\n",
    "👉 Methods\n",
    "• add() is a method that returns the sum of num1 and num2.\n",
    "• subtract() is a method that returns the subtraction of num1 from num2.\n",
    "• multiply() is a method that returns the product of num1 and num2.\n",
    "• divide() is a method that returns the division of num2 by num1.\n",
    "Input - Pass numbers (integers or floats) in the initializer.\n",
    "\n",
    "Output - addition, subtraction, division, and multiplication"
   ]
  },
  {
   "cell_type": "code",
   "execution_count": 1,
   "id": "872c78c1-c8ad-4f22-ac8f-a8d9cbc5c74e",
   "metadata": {},
   "outputs": [
    {
     "name": "stdout",
     "output_type": "stream",
     "text": [
      "104\n",
      "84\n",
      "940\n",
      "9.4\n"
     ]
    }
   ],
   "source": [
    "class Calculator:\n",
    "    def __init__(self, num1, num2):\n",
    "        self.num1 = num1\n",
    "        self.num2 = num2\n",
    "\n",
    "    def add(self):\n",
    "        return self.num1 + self.num2\n",
    "\n",
    "    def subtract(self):\n",
    "        return self.num2 - self.num1\n",
    "\n",
    "    def multiply(self):\n",
    "        return self.num1 * self.num2\n",
    "\n",
    "    def divide(self):\n",
    "        if self.num1 == 0:\n",
    "            return \"Division by zero is not allowed\"\n",
    "        else:\n",
    "            return self.num2 / self.num1\n",
    "obj = Calculator(10, 94)\n",
    "print(obj.add())\n",
    "print(obj.subtract()) \n",
    "print(obj.multiply()) \n",
    "print(obj.divide()) "
   ]
  }
 ],
 "metadata": {
  "kernelspec": {
   "display_name": "Python 3 (ipykernel)",
   "language": "python",
   "name": "python3"
  },
  "language_info": {
   "codemirror_mode": {
    "name": "ipython",
    "version": 3
   },
   "file_extension": ".py",
   "mimetype": "text/x-python",
   "name": "python",
   "nbconvert_exporter": "python",
   "pygments_lexer": "ipython3",
   "version": "3.11.1"
  }
 },
 "nbformat": 4,
 "nbformat_minor": 5
}
